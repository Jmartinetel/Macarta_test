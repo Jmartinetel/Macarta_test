{
 "cells": [
  {
   "cell_type": "markdown",
   "metadata": {},
   "source": [
    "## Data Preparation: Export, Clean and Transform data\n",
    "*Analyst:* José Eduardo Téllez\n",
    "\n",
    "\n",
    "### Objetive\n",
    "This notebook aims to prepare data for next analysis by cleaning, and transforming the data. \n",
    "The source file, `'data_science_test_data.xlsx'`, was provided by the HR team,\n",
    " and it contains the raw data that will be processed to ensure quality and consistency.\n",
    "\n",
    "\n",
    " ### Functions:\n",
    "\n",
    "Any function used here would be saved at lib folder.\n",
    "\n",
    "\n",
    "\n",
    "\n",
    "\n"
   ]
  },
  {
   "cell_type": "markdown",
   "metadata": {},
   "source": [
    "## 1. Import packages\n",
    "In this section, we import the necessary libraries"
   ]
  },
  {
   "cell_type": "code",
   "execution_count": null,
   "metadata": {},
   "outputs": [],
   "source": [
    "ñ"
   ]
  },
  {
   "cell_type": "markdown",
   "metadata": {},
   "source": [
    "## 2. Define Path\n",
    "In this section, we defined the path that would be used. "
   ]
  },
  {
   "cell_type": "code",
   "execution_count": null,
   "metadata": {},
   "outputs": [],
   "source": []
  }
 ],
 "metadata": {
  "language_info": {
   "name": "python"
  }
 },
 "nbformat": 4,
 "nbformat_minor": 2
}
