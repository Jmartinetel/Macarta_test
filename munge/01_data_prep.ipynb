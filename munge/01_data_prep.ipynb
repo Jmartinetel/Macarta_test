{
 "cells": [
  {
   "cell_type": "markdown",
   "metadata": {},
   "source": [
    "## Data Preparation: Export, Clean and Transform data\n",
    "*Analyst:* José Eduardo Téllez\n",
    "\n",
    "\n",
    "### Objetive\n",
    "This notebook aims to prepare data for next analysis by cleaning, and transforming the data. \n",
    "The source file, `'data_science_test_data.xlsx'`, was provided by the HR team,\n",
    " and it contains the raw data that will be processed to ensure quality and consistency.\n",
    "\n",
    "\n",
    " ### Functions:\n",
    "\n",
    "Any function used here would be saved at lib folder.\n",
    "\n",
    "\n",
    "\n",
    "\n",
    "\n"
   ]
  },
  {
   "cell_type": "markdown",
   "metadata": {},
   "source": [
    "## 1. Import packages\n",
    "In this section, we import the necessary libraries"
   ]
  },
  {
   "cell_type": "code",
   "execution_count": 68,
   "metadata": {},
   "outputs": [],
   "source": [
    "import pandas as pd\n",
    "import os \n",
    "import numpy as np\n",
    "import sys\n",
    "import seaborn as sns\n",
    "import matplotlib.pyplot as plt"
   ]
  },
  {
   "cell_type": "markdown",
   "metadata": {},
   "source": [
    "## 2. Define Path\n",
    "In this section, we defined the path that would be used. "
   ]
  },
  {
   "cell_type": "code",
   "execution_count": 23,
   "metadata": {},
   "outputs": [],
   "source": [
    "main_path = os.path.dirname(os.path.abspath(os.getcwd()))"
   ]
  },
  {
   "cell_type": "code",
   "execution_count": 25,
   "metadata": {},
   "outputs": [],
   "source": [
    "sys.path.append(os.path.join(main_path, 'lib'))"
   ]
  },
  {
   "cell_type": "markdown",
   "metadata": {},
   "source": [
    "## 3. Functions\n",
    "If any function is used it would be export in this section"
   ]
  },
  {
   "cell_type": "code",
   "execution_count": null,
   "metadata": {},
   "outputs": [],
   "source": []
  },
  {
   "cell_type": "markdown",
   "metadata": {},
   "source": [
    "## 4. Import data"
   ]
  },
  {
   "cell_type": "code",
   "execution_count": 30,
   "metadata": {},
   "outputs": [],
   "source": [
    "## Media data import\n",
    "media_dt = pd.read_excel(os.path.join(main_path, 'data/data_science_test_data.xlsx'), sheet_name = 'Sheet1')\n",
    "## Lead data import\n",
    "lead_dt = pd.read_excel(os.path.join(main_path, 'data/data_science_test_data.xlsx'), sheet_name = 'Sheet2')"
   ]
  },
  {
   "cell_type": "code",
   "execution_count": 29,
   "metadata": {},
   "outputs": [
    {
     "data": {
      "text/html": [
       "<div>\n",
       "<style scoped>\n",
       "    .dataframe tbody tr th:only-of-type {\n",
       "        vertical-align: middle;\n",
       "    }\n",
       "\n",
       "    .dataframe tbody tr th {\n",
       "        vertical-align: top;\n",
       "    }\n",
       "\n",
       "    .dataframe thead th {\n",
       "        text-align: right;\n",
       "    }\n",
       "</style>\n",
       "<table border=\"1\" class=\"dataframe\">\n",
       "  <thead>\n",
       "    <tr style=\"text-align: right;\">\n",
       "      <th></th>\n",
       "      <th>DATE</th>\n",
       "      <th>googlesearch_s</th>\n",
       "      <th>facebook_s</th>\n",
       "      <th>display_s</th>\n",
       "      <th>promotion?</th>\n",
       "    </tr>\n",
       "  </thead>\n",
       "  <tbody>\n",
       "    <tr>\n",
       "      <th>0</th>\n",
       "      <td>2022-02-04</td>\n",
       "      <td>2424.34</td>\n",
       "      <td>200.72</td>\n",
       "      <td>284</td>\n",
       "      <td>NaN</td>\n",
       "    </tr>\n",
       "    <tr>\n",
       "      <th>1</th>\n",
       "      <td>2022-02-05</td>\n",
       "      <td>2110.07</td>\n",
       "      <td>407.44</td>\n",
       "      <td>194</td>\n",
       "      <td>NaN</td>\n",
       "    </tr>\n",
       "    <tr>\n",
       "      <th>2</th>\n",
       "      <td>2022-02-06</td>\n",
       "      <td>2091.32</td>\n",
       "      <td>395.24</td>\n",
       "      <td>247</td>\n",
       "      <td>NaN</td>\n",
       "    </tr>\n",
       "    <tr>\n",
       "      <th>3</th>\n",
       "      <td>2022-02-07</td>\n",
       "      <td>2867.82</td>\n",
       "      <td>415.98</td>\n",
       "      <td>211</td>\n",
       "      <td>NaN</td>\n",
       "    </tr>\n",
       "    <tr>\n",
       "      <th>4</th>\n",
       "      <td>2022-02-08</td>\n",
       "      <td>2569.72</td>\n",
       "      <td>433.87</td>\n",
       "      <td>283</td>\n",
       "      <td>NaN</td>\n",
       "    </tr>\n",
       "  </tbody>\n",
       "</table>\n",
       "</div>"
      ],
      "text/plain": [
       "        DATE  googlesearch_s  facebook_s  display_s promotion?\n",
       "0 2022-02-04         2424.34      200.72        284        NaN\n",
       "1 2022-02-05         2110.07      407.44        194        NaN\n",
       "2 2022-02-06         2091.32      395.24        247        NaN\n",
       "3 2022-02-07         2867.82      415.98        211        NaN\n",
       "4 2022-02-08         2569.72      433.87        283        NaN"
      ]
     },
     "execution_count": 29,
     "metadata": {},
     "output_type": "execute_result"
    }
   ],
   "source": [
    "media_dt.head(5\n",
    ")"
   ]
  },
  {
   "cell_type": "code",
   "execution_count": 34,
   "metadata": {},
   "outputs": [
    {
     "name": "stdout",
     "output_type": "stream",
     "text": [
      "<class 'pandas.core.frame.DataFrame'>\n",
      "RangeIndex: 939 entries, 0 to 938\n",
      "Data columns (total 5 columns):\n",
      " #   Column          Non-Null Count  Dtype         \n",
      "---  ------          --------------  -----         \n",
      " 0   DATE            939 non-null    datetime64[ns]\n",
      " 1   googlesearch_s  936 non-null    float64       \n",
      " 2   facebook_s      939 non-null    float64       \n",
      " 3   display_s       939 non-null    int64         \n",
      " 4   promotion?      70 non-null     object        \n",
      "dtypes: datetime64[ns](1), float64(2), int64(1), object(1)\n",
      "memory usage: 36.8+ KB\n"
     ]
    }
   ],
   "source": [
    "media_dt.info()"
   ]
  },
  {
   "cell_type": "code",
   "execution_count": 31,
   "metadata": {},
   "outputs": [
    {
     "data": {
      "text/html": [
       "<div>\n",
       "<style scoped>\n",
       "    .dataframe tbody tr th:only-of-type {\n",
       "        vertical-align: middle;\n",
       "    }\n",
       "\n",
       "    .dataframe tbody tr th {\n",
       "        vertical-align: top;\n",
       "    }\n",
       "\n",
       "    .dataframe thead th {\n",
       "        text-align: right;\n",
       "    }\n",
       "</style>\n",
       "<table border=\"1\" class=\"dataframe\">\n",
       "  <thead>\n",
       "    <tr style=\"text-align: right;\">\n",
       "      <th></th>\n",
       "      <th>Lead ID</th>\n",
       "      <th>Lead Date</th>\n",
       "      <th>Qualified Date</th>\n",
       "      <th>Purchase Date</th>\n",
       "    </tr>\n",
       "  </thead>\n",
       "  <tbody>\n",
       "    <tr>\n",
       "      <th>0</th>\n",
       "      <td>1</td>\n",
       "      <td>2022-02-07</td>\n",
       "      <td>2022-02-08</td>\n",
       "      <td>NaT</td>\n",
       "    </tr>\n",
       "    <tr>\n",
       "      <th>1</th>\n",
       "      <td>2</td>\n",
       "      <td>2022-02-07</td>\n",
       "      <td>2022-02-09</td>\n",
       "      <td>2022-04-14</td>\n",
       "    </tr>\n",
       "    <tr>\n",
       "      <th>2</th>\n",
       "      <td>3</td>\n",
       "      <td>2022-02-09</td>\n",
       "      <td>2022-02-09</td>\n",
       "      <td>2022-09-19</td>\n",
       "    </tr>\n",
       "    <tr>\n",
       "      <th>3</th>\n",
       "      <td>4</td>\n",
       "      <td>2022-02-06</td>\n",
       "      <td>2022-02-11</td>\n",
       "      <td>NaT</td>\n",
       "    </tr>\n",
       "    <tr>\n",
       "      <th>4</th>\n",
       "      <td>5</td>\n",
       "      <td>2022-02-10</td>\n",
       "      <td>2022-02-11</td>\n",
       "      <td>NaT</td>\n",
       "    </tr>\n",
       "  </tbody>\n",
       "</table>\n",
       "</div>"
      ],
      "text/plain": [
       "   Lead ID  Lead Date Qualified Date Purchase Date\n",
       "0        1 2022-02-07     2022-02-08           NaT\n",
       "1        2 2022-02-07     2022-02-09    2022-04-14\n",
       "2        3 2022-02-09     2022-02-09    2022-09-19\n",
       "3        4 2022-02-06     2022-02-11           NaT\n",
       "4        5 2022-02-10     2022-02-11           NaT"
      ]
     },
     "execution_count": 31,
     "metadata": {},
     "output_type": "execute_result"
    }
   ],
   "source": [
    "lead_dt.head(5)"
   ]
  },
  {
   "cell_type": "code",
   "execution_count": 33,
   "metadata": {},
   "outputs": [
    {
     "name": "stdout",
     "output_type": "stream",
     "text": [
      "<class 'pandas.core.frame.DataFrame'>\n",
      "RangeIndex: 11733 entries, 0 to 11732\n",
      "Data columns (total 4 columns):\n",
      " #   Column          Non-Null Count  Dtype         \n",
      "---  ------          --------------  -----         \n",
      " 0   Lead ID         11733 non-null  int64         \n",
      " 1   Lead Date       11733 non-null  datetime64[ns]\n",
      " 2   Qualified Date  1388 non-null   datetime64[ns]\n",
      " 3   Purchase Date   300 non-null    datetime64[ns]\n",
      "dtypes: datetime64[ns](3), int64(1)\n",
      "memory usage: 366.8 KB\n"
     ]
    }
   ],
   "source": [
    "lead_dt.info(   )"
   ]
  },
  {
   "cell_type": "markdown",
   "metadata": {},
   "source": [
    "## 5. Media data clean\n",
    "\n",
    "This section consist in clean the media data"
   ]
  },
  {
   "cell_type": "code",
   "execution_count": 35,
   "metadata": {},
   "outputs": [
    {
     "data": {
      "text/html": [
       "<div>\n",
       "<style scoped>\n",
       "    .dataframe tbody tr th:only-of-type {\n",
       "        vertical-align: middle;\n",
       "    }\n",
       "\n",
       "    .dataframe tbody tr th {\n",
       "        vertical-align: top;\n",
       "    }\n",
       "\n",
       "    .dataframe thead th {\n",
       "        text-align: right;\n",
       "    }\n",
       "</style>\n",
       "<table border=\"1\" class=\"dataframe\">\n",
       "  <thead>\n",
       "    <tr style=\"text-align: right;\">\n",
       "      <th></th>\n",
       "      <th>DATE</th>\n",
       "      <th>googlesearch_s</th>\n",
       "      <th>facebook_s</th>\n",
       "      <th>display_s</th>\n",
       "    </tr>\n",
       "  </thead>\n",
       "  <tbody>\n",
       "    <tr>\n",
       "      <th>count</th>\n",
       "      <td>939</td>\n",
       "      <td>936.000000</td>\n",
       "      <td>939.000000</td>\n",
       "      <td>939.000000</td>\n",
       "    </tr>\n",
       "    <tr>\n",
       "      <th>mean</th>\n",
       "      <td>2023-05-19 00:00:00</td>\n",
       "      <td>2607.854141</td>\n",
       "      <td>384.267082</td>\n",
       "      <td>217.687966</td>\n",
       "    </tr>\n",
       "    <tr>\n",
       "      <th>min</th>\n",
       "      <td>2022-02-04 00:00:00</td>\n",
       "      <td>567.310000</td>\n",
       "      <td>0.000000</td>\n",
       "      <td>100.000000</td>\n",
       "    </tr>\n",
       "    <tr>\n",
       "      <th>25%</th>\n",
       "      <td>2022-09-26 12:00:00</td>\n",
       "      <td>2095.332750</td>\n",
       "      <td>266.210000</td>\n",
       "      <td>166.000000</td>\n",
       "    </tr>\n",
       "    <tr>\n",
       "      <th>50%</th>\n",
       "      <td>2023-05-19 00:00:00</td>\n",
       "      <td>2532.842250</td>\n",
       "      <td>308.210000</td>\n",
       "      <td>219.000000</td>\n",
       "    </tr>\n",
       "    <tr>\n",
       "      <th>75%</th>\n",
       "      <td>2024-01-08 12:00:00</td>\n",
       "      <td>3091.270825</td>\n",
       "      <td>567.520000</td>\n",
       "      <td>279.000000</td>\n",
       "    </tr>\n",
       "    <tr>\n",
       "      <th>max</th>\n",
       "      <td>2024-08-30 00:00:00</td>\n",
       "      <td>5000.434700</td>\n",
       "      <td>798.240000</td>\n",
       "      <td>300.000000</td>\n",
       "    </tr>\n",
       "    <tr>\n",
       "      <th>std</th>\n",
       "      <td>NaN</td>\n",
       "      <td>746.689067</td>\n",
       "      <td>168.023296</td>\n",
       "      <td>59.236917</td>\n",
       "    </tr>\n",
       "  </tbody>\n",
       "</table>\n",
       "</div>"
      ],
      "text/plain": [
       "                      DATE  googlesearch_s  facebook_s   display_s\n",
       "count                  939      936.000000  939.000000  939.000000\n",
       "mean   2023-05-19 00:00:00     2607.854141  384.267082  217.687966\n",
       "min    2022-02-04 00:00:00      567.310000    0.000000  100.000000\n",
       "25%    2022-09-26 12:00:00     2095.332750  266.210000  166.000000\n",
       "50%    2023-05-19 00:00:00     2532.842250  308.210000  219.000000\n",
       "75%    2024-01-08 12:00:00     3091.270825  567.520000  279.000000\n",
       "max    2024-08-30 00:00:00     5000.434700  798.240000  300.000000\n",
       "std                    NaN      746.689067  168.023296   59.236917"
      ]
     },
     "execution_count": 35,
     "metadata": {},
     "output_type": "execute_result"
    }
   ],
   "source": [
    "media_dt.describe()"
   ]
  },
  {
   "cell_type": "code",
   "execution_count": 36,
   "metadata": {},
   "outputs": [
    {
     "name": "stdout",
     "output_type": "stream",
     "text": [
      "<class 'pandas.core.frame.DataFrame'>\n",
      "RangeIndex: 939 entries, 0 to 938\n",
      "Data columns (total 5 columns):\n",
      " #   Column          Non-Null Count  Dtype         \n",
      "---  ------          --------------  -----         \n",
      " 0   DATE            939 non-null    datetime64[ns]\n",
      " 1   googlesearch_s  936 non-null    float64       \n",
      " 2   facebook_s      939 non-null    float64       \n",
      " 3   display_s       939 non-null    int64         \n",
      " 4   promotion?      70 non-null     object        \n",
      "dtypes: datetime64[ns](1), float64(2), int64(1), object(1)\n",
      "memory usage: 36.8+ KB\n"
     ]
    }
   ],
   "source": [
    "media_dt.info()"
   ]
  },
  {
   "cell_type": "code",
   "execution_count": 76,
   "metadata": {},
   "outputs": [
    {
     "data": {
      "text/html": [
       "<div>\n",
       "<style scoped>\n",
       "    .dataframe tbody tr th:only-of-type {\n",
       "        vertical-align: middle;\n",
       "    }\n",
       "\n",
       "    .dataframe tbody tr th {\n",
       "        vertical-align: top;\n",
       "    }\n",
       "\n",
       "    .dataframe thead th {\n",
       "        text-align: right;\n",
       "    }\n",
       "</style>\n",
       "<table border=\"1\" class=\"dataframe\">\n",
       "  <thead>\n",
       "    <tr style=\"text-align: right;\">\n",
       "      <th></th>\n",
       "      <th>date</th>\n",
       "      <th>ggsearch</th>\n",
       "      <th>facebook</th>\n",
       "      <th>display</th>\n",
       "      <th>promotion</th>\n",
       "    </tr>\n",
       "  </thead>\n",
       "  <tbody>\n",
       "    <tr>\n",
       "      <th>0</th>\n",
       "      <td>2022-02-04</td>\n",
       "      <td>2424.34</td>\n",
       "      <td>200.72</td>\n",
       "      <td>284</td>\n",
       "      <td>0</td>\n",
       "    </tr>\n",
       "    <tr>\n",
       "      <th>1</th>\n",
       "      <td>2022-02-05</td>\n",
       "      <td>2110.07</td>\n",
       "      <td>407.44</td>\n",
       "      <td>194</td>\n",
       "      <td>0</td>\n",
       "    </tr>\n",
       "    <tr>\n",
       "      <th>2</th>\n",
       "      <td>2022-02-06</td>\n",
       "      <td>2091.32</td>\n",
       "      <td>395.24</td>\n",
       "      <td>247</td>\n",
       "      <td>0</td>\n",
       "    </tr>\n",
       "    <tr>\n",
       "      <th>3</th>\n",
       "      <td>2022-02-07</td>\n",
       "      <td>2867.82</td>\n",
       "      <td>415.98</td>\n",
       "      <td>211</td>\n",
       "      <td>0</td>\n",
       "    </tr>\n",
       "    <tr>\n",
       "      <th>4</th>\n",
       "      <td>2022-02-08</td>\n",
       "      <td>2569.72</td>\n",
       "      <td>433.87</td>\n",
       "      <td>283</td>\n",
       "      <td>0</td>\n",
       "    </tr>\n",
       "    <tr>\n",
       "      <th>5</th>\n",
       "      <td>2022-02-09</td>\n",
       "      <td>2808.94</td>\n",
       "      <td>427.29</td>\n",
       "      <td>135</td>\n",
       "      <td>0</td>\n",
       "    </tr>\n",
       "    <tr>\n",
       "      <th>6</th>\n",
       "      <td>2022-02-10</td>\n",
       "      <td>2728.04</td>\n",
       "      <td>425.30</td>\n",
       "      <td>281</td>\n",
       "      <td>0</td>\n",
       "    </tr>\n",
       "    <tr>\n",
       "      <th>7</th>\n",
       "      <td>2022-02-11</td>\n",
       "      <td>2477.71</td>\n",
       "      <td>434.02</td>\n",
       "      <td>200</td>\n",
       "      <td>0</td>\n",
       "    </tr>\n",
       "    <tr>\n",
       "      <th>8</th>\n",
       "      <td>2022-02-12</td>\n",
       "      <td>1789.40</td>\n",
       "      <td>419.92</td>\n",
       "      <td>263</td>\n",
       "      <td>0</td>\n",
       "    </tr>\n",
       "    <tr>\n",
       "      <th>9</th>\n",
       "      <td>2022-02-13</td>\n",
       "      <td>1983.92</td>\n",
       "      <td>400.09</td>\n",
       "      <td>175</td>\n",
       "      <td>0</td>\n",
       "    </tr>\n",
       "  </tbody>\n",
       "</table>\n",
       "</div>"
      ],
      "text/plain": [
       "        date  ggsearch  facebook  display  promotion\n",
       "0 2022-02-04   2424.34    200.72      284          0\n",
       "1 2022-02-05   2110.07    407.44      194          0\n",
       "2 2022-02-06   2091.32    395.24      247          0\n",
       "3 2022-02-07   2867.82    415.98      211          0\n",
       "4 2022-02-08   2569.72    433.87      283          0\n",
       "5 2022-02-09   2808.94    427.29      135          0\n",
       "6 2022-02-10   2728.04    425.30      281          0\n",
       "7 2022-02-11   2477.71    434.02      200          0\n",
       "8 2022-02-12   1789.40    419.92      263          0\n",
       "9 2022-02-13   1983.92    400.09      175          0"
      ]
     },
     "execution_count": 76,
     "metadata": {},
     "output_type": "execute_result"
    }
   ],
   "source": [
    "## First we rename the df with simple names\n",
    "media_names = {'DATE': 'date', 'googlesearch_s':'ggsearch', 'facebook_s':'facebook','display_s': 'display', 'promotion?'  : 'promotion'}\n",
    "media_rn = media_dt.rename(columns= media_names)\n",
    "\n",
    "## We do some changes, date is already a datetime64 but just to have caution, and we transform promotion into a 1 or 0 variable. 1 if is promotion, 0 if is not\n",
    "media_rn['date'] = pd.to_datetime(media_rn['date'])\n",
    "media_rn['promotion'] = np.where(media_rn['promotion'].isna(), 0, 1)\n",
    "media_rn.head(10\n",
    ")"
   ]
  },
  {
   "cell_type": "code",
   "execution_count": 62,
   "metadata": {},
   "outputs": [],
   "source": [
    "# simple dictionary that will be use to examine the variables\n",
    "agg_list = {\n",
    "    'date': 'count',\n",
    "    'ggsearch': ['sum', 'min', 'mean' , 'median', 'max'],\n",
    "    'facebook': ['sum', 'min', 'mean' , 'median' ,'max'],\n",
    "    'display': ['sum', 'min', 'mean' , 'median', 'max'],\n",
    "    'promotion': ['sum', 'min', 'mean' , 'median', 'max']\n",
    "}"
   ]
  },
  {
   "cell_type": "code",
   "execution_count": 63,
   "metadata": {},
   "outputs": [
    {
     "data": {
      "text/html": [
       "<div>\n",
       "<style scoped>\n",
       "    .dataframe tbody tr th:only-of-type {\n",
       "        vertical-align: middle;\n",
       "    }\n",
       "\n",
       "    .dataframe tbody tr th {\n",
       "        vertical-align: top;\n",
       "    }\n",
       "\n",
       "    .dataframe thead tr th {\n",
       "        text-align: left;\n",
       "    }\n",
       "\n",
       "    .dataframe thead tr:last-of-type th {\n",
       "        text-align: right;\n",
       "    }\n",
       "</style>\n",
       "<table border=\"1\" class=\"dataframe\">\n",
       "  <thead>\n",
       "    <tr>\n",
       "      <th></th>\n",
       "      <th>date</th>\n",
       "      <th colspan=\"5\" halign=\"left\">ggsearch</th>\n",
       "      <th colspan=\"4\" halign=\"left\">facebook</th>\n",
       "      <th>...</th>\n",
       "      <th colspan=\"5\" halign=\"left\">display</th>\n",
       "      <th colspan=\"5\" halign=\"left\">promotion</th>\n",
       "    </tr>\n",
       "    <tr>\n",
       "      <th></th>\n",
       "      <th>count</th>\n",
       "      <th>sum</th>\n",
       "      <th>min</th>\n",
       "      <th>mean</th>\n",
       "      <th>median</th>\n",
       "      <th>max</th>\n",
       "      <th>sum</th>\n",
       "      <th>min</th>\n",
       "      <th>mean</th>\n",
       "      <th>median</th>\n",
       "      <th>...</th>\n",
       "      <th>sum</th>\n",
       "      <th>min</th>\n",
       "      <th>mean</th>\n",
       "      <th>median</th>\n",
       "      <th>max</th>\n",
       "      <th>sum</th>\n",
       "      <th>min</th>\n",
       "      <th>mean</th>\n",
       "      <th>median</th>\n",
       "      <th>max</th>\n",
       "    </tr>\n",
       "    <tr>\n",
       "      <th>promotion</th>\n",
       "      <th></th>\n",
       "      <th></th>\n",
       "      <th></th>\n",
       "      <th></th>\n",
       "      <th></th>\n",
       "      <th></th>\n",
       "      <th></th>\n",
       "      <th></th>\n",
       "      <th></th>\n",
       "      <th></th>\n",
       "      <th></th>\n",
       "      <th></th>\n",
       "      <th></th>\n",
       "      <th></th>\n",
       "      <th></th>\n",
       "      <th></th>\n",
       "      <th></th>\n",
       "      <th></th>\n",
       "      <th></th>\n",
       "      <th></th>\n",
       "      <th></th>\n",
       "    </tr>\n",
       "  </thead>\n",
       "  <tbody>\n",
       "    <tr>\n",
       "      <th>0</th>\n",
       "      <td>869</td>\n",
       "      <td>2.293213e+06</td>\n",
       "      <td>567.3100</td>\n",
       "      <td>2648.051629</td>\n",
       "      <td>2568.4327</td>\n",
       "      <td>5000.4347</td>\n",
       "      <td>335916.85</td>\n",
       "      <td>0.0</td>\n",
       "      <td>386.555639</td>\n",
       "      <td>309.430</td>\n",
       "      <td>...</td>\n",
       "      <td>189131</td>\n",
       "      <td>100</td>\n",
       "      <td>217.642117</td>\n",
       "      <td>219.0</td>\n",
       "      <td>300</td>\n",
       "      <td>0</td>\n",
       "      <td>0</td>\n",
       "      <td>0.0</td>\n",
       "      <td>0.0</td>\n",
       "      <td>0</td>\n",
       "    </tr>\n",
       "    <tr>\n",
       "      <th>1</th>\n",
       "      <td>70</td>\n",
       "      <td>1.477388e+05</td>\n",
       "      <td>595.1414</td>\n",
       "      <td>2110.553796</td>\n",
       "      <td>2074.2518</td>\n",
       "      <td>4228.6650</td>\n",
       "      <td>24909.94</td>\n",
       "      <td>199.6</td>\n",
       "      <td>355.856286</td>\n",
       "      <td>286.055</td>\n",
       "      <td>...</td>\n",
       "      <td>15278</td>\n",
       "      <td>106</td>\n",
       "      <td>218.257143</td>\n",
       "      <td>218.5</td>\n",
       "      <td>299</td>\n",
       "      <td>70</td>\n",
       "      <td>1</td>\n",
       "      <td>1.0</td>\n",
       "      <td>1.0</td>\n",
       "      <td>1</td>\n",
       "    </tr>\n",
       "  </tbody>\n",
       "</table>\n",
       "<p>2 rows × 21 columns</p>\n",
       "</div>"
      ],
      "text/plain": [
       "           date      ggsearch                                               \\\n",
       "          count           sum       min         mean     median        max   \n",
       "promotion                                                                    \n",
       "0           869  2.293213e+06  567.3100  2648.051629  2568.4327  5000.4347   \n",
       "1            70  1.477388e+05  595.1414  2110.553796  2074.2518  4228.6650   \n",
       "\n",
       "            facebook                              ... display       \\\n",
       "                 sum    min        mean   median  ...     sum  min   \n",
       "promotion                                         ...                \n",
       "0          335916.85    0.0  386.555639  309.430  ...  189131  100   \n",
       "1           24909.94  199.6  355.856286  286.055  ...   15278  106   \n",
       "\n",
       "                                  promotion                      \n",
       "                 mean median  max       sum min mean median max  \n",
       "promotion                                                        \n",
       "0          217.642117  219.0  300         0   0  0.0    0.0   0  \n",
       "1          218.257143  218.5  299        70   1  1.0    1.0   1  \n",
       "\n",
       "[2 rows x 21 columns]"
      ]
     },
     "execution_count": 63,
     "metadata": {},
     "output_type": "execute_result"
    }
   ],
   "source": [
    "media_rn['promotion'].unique()\n",
    "media_rn.groupby(['promotion']).agg(agg_list)"
   ]
  },
  {
   "cell_type": "markdown",
   "metadata": {},
   "source": [
    "## GGSEARCH OBS\n",
    "\n",
    "In the plot below, we can see how GGSearch: \n",
    "* In 2022, there was a clear increase in investment\n",
    "* In 2023, the trend shifted, and spending started to drop, staying lower throughout the year.\n",
    "* However, at the start of 2024, there’s a noticeable increase, which suggests that the company decided to put more budget into GGSearch again.\n",
    "\n",
    "This increase early in 2024 could mean the company sees more value in this channel now or is aiming to get better performances"
   ]
  },
  {
   "cell_type": "code",
   "execution_count": 79,
   "metadata": {},
   "outputs": [
    {
     "data": {
      "image/png": "[encoded data removed]",
      "text/plain": [
       "<Figure size 640x480 with 1 Axes>"
      ]
     },
     "metadata": {},
     "output_type": "display_data"
    }
   ],
   "source": [
    "plt.plot(media_rn['date'], media_rn['ggsearch'])\n",
    "plt.tick_params(axis='x', rotation=90, labelsize = 9)\n",
    "plt.show()\n",
    "\n",
    "## ggsave observations"
   ]
  },
  {
   "cell_type": "markdown",
   "metadata": {},
   "source": [
    "## FACEBOOK OBS\n",
    "\n",
    "In the plot below, we can see how facebok investment:\n",
    "* In 2022 and 2023 there was a very delicated decrease but the investment maintain a flat behavior.\n",
    "* While in 2024, we see something complete different, We can vizualize a more agressive campain.\n",
    "\n",
    "\n",
    "\n"
   ]
  },
  {
   "cell_type": "code",
   "execution_count": 74,
   "metadata": {},
   "outputs": [
    {
     "data": {
      "image/png": "[encoded data removed]",
      "text/plain": [
       "<Figure size 640x480 with 1 Axes>"
      ]
     },
     "metadata": {},
     "output_type": "display_data"
    }
   ],
   "source": [
    "plt.plot(media_rn['date'], media_rn['facebook'])\n",
    "plt.tick_params(axis='x', rotation=90, labelsize = 9)\n",
    "plt.show()"
   ]
  },
  {
   "cell_type": "code",
   "execution_count": 78,
   "metadata": {},
   "outputs": [
    {
     "data": {
      "image/png": "[encoded data removed]",
      "text/plain": [
       "<Figure size 640x480 with 1 Axes>"
      ]
     },
     "metadata": {},
     "output_type": "display_data"
    }
   ],
   "source": [
    "plt.plot(media_rn['date'], media_rn['display'])\n",
    "plt.tick_params(axis='x', rotation=90, labelsize = 9)\n",
    "plt.ylim( 0, 400)\n",
    "plt.show()\n",
    "## For display what we can see is that it look like irregular. "
   ]
  },
  {
   "cell_type": "code",
   "execution_count": null,
   "metadata": {},
   "outputs": [],
   "source": []
  }
 ],
 "metadata": {
  "kernelspec": {
   "display_name": ".venv",
   "language": "python",
   "name": "python3"
  },
  "language_info": {
   "codemirror_mode": {
    "name": "ipython",
    "version": 3
   },
   "file_extension": ".py",
   "mimetype": "text/x-python",
   "name": "python",
   "nbconvert_exporter": "python",
   "pygments_lexer": "ipython3",
   "version": "3.12.1"
  }
 },
 "nbformat": 4,
 "nbformat_minor": 2
}
